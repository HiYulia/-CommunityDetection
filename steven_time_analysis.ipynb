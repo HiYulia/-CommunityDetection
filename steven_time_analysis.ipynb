{
  "nbformat": 4,
  "nbformat_minor": 0,
  "metadata": {
    "colab": {
      "provenance": [],
      "mount_file_id": "1U8dlRvY4uUqP55uBARsf2aP4j2vmrJal",
      "authorship_tag": "ABX9TyMcOS6zkXniynJglGJwpe6/",
      "include_colab_link": true
    },
    "kernelspec": {
      "name": "python3",
      "display_name": "Python 3"
    },
    "language_info": {
      "name": "python"
    }
  },
  "cells": [
    {
      "cell_type": "markdown",
      "metadata": {
        "id": "view-in-github",
        "colab_type": "text"
      },
      "source": [
        "<a href=\"https://colab.research.google.com/github/HiYulia/-CommunityDetection/blob/master/steven_time_analysis.ipynb\" target=\"_parent\"><img src=\"https://colab.research.google.com/assets/colab-badge.svg\" alt=\"Open In Colab\"/></a>"
      ]
    },
    {
      "cell_type": "markdown",
      "source": [
        "下文为Steven在2022年全年的时间使用分析："
      ],
      "metadata": {
        "id": "CzrWYzECLqYy"
      }
    },
    {
      "cell_type": "markdown",
      "source": [
        "# 原数据上传与清洗"
      ],
      "metadata": {
        "id": "w0zzeRm7uuFa"
      }
    },
    {
      "cell_type": "code",
      "execution_count": null,
      "metadata": {
        "id": "bmliL27uYv8n"
      },
      "outputs": [],
      "source": [
        "# Install the PyDrive wrapper & import libraries.\n",
        "# This only needs to be done once per notebook.\n",
        "!pip install -U -q PyDrive\n",
        "from pydrive.auth import GoogleAuth\n",
        "from pydrive.drive import GoogleDrive\n",
        "from google.colab import auth\n",
        "from oauth2client.client import GoogleCredentials\n",
        "\n",
        "auth.authenticate_user()\n",
        "gauth = GoogleAuth()\n",
        "gauth.credentials = GoogleCredentials.get_application_default()\n",
        "drive = GoogleDrive(gauth)"
      ]
    },
    {
      "cell_type": "code",
      "source": [
        "#upload data\n",
        "!pip install -q xlrd\n",
        "\n",
        "import pandas as pd\n",
        "df1 = pd.read_excel('/content/drive/MyDrive/Colab Notebooks/20230110165611.xls')\n",
        "df2 = pd.read_excel('/content/drive/MyDrive/Colab Notebooks/20230110165529.xlsx')"
      ],
      "metadata": {
        "colab": {
          "base_uri": "https://localhost:8080/"
        },
        "id": "pHFOO2LszK4r",
        "outputId": "f0495291-ce80-4360-9ef0-68b526220c29"
      },
      "execution_count": null,
      "outputs": [
        {
          "output_type": "stream",
          "name": "stdout",
          "text": [
            "WARNING *** file size (1771050) not 512 + multiple of sector size (512)\n"
          ]
        }
      ]
    },
    {
      "cell_type": "code",
      "source": [
        "# merge and convert\n",
        "df=pd.concat([df1, df2], axis=0) \n",
        "df['time_converetd_started'] = pd.to_datetime(df.开始时间)\n",
        "df['time_converetd_end'] = pd.to_datetime(df.结束时间)\n",
        "df['time period']=df['time_converetd_end']-df['time_converetd_started'] "
      ],
      "metadata": {
        "id": "84sMPsl24wN6"
      },
      "execution_count": null,
      "outputs": []
    },
    {
      "cell_type": "code",
      "source": [
        "df.head()"
      ],
      "metadata": {
        "colab": {
          "base_uri": "https://localhost:8080/",
          "height": 1404
        },
        "id": "TDSIIo1NL935",
        "outputId": "a60288ca-c8a6-419e-a119-0038ffbff17d"
      },
      "execution_count": null,
      "outputs": [
        {
          "output_type": "execute_result",
          "data": {
            "text/plain": [
              "                         ID                                    标题  \\\n",
              "0  63ad5768adfaf902e898e243                             CBB相关内容沟通   \n",
              "1  6389b52469e3fa01d9d96592  Salami项目出货评审会邀请（调整至12/30（周五）下午17:15）   \n",
              "2  6392d85d5b5806039c4a98cf                          技术竞争力会（双周例会）   \n",
              "3  63aaa5cde3034903e47fbd78                               凤凰座状态对齐   \n",
              "4  63a971a6f3df5503c04f5c33                                自研存储研讨   \n",
              "\n",
              "                                                 参与者                 开始时间  \\\n",
              "0  [牛心悦(Yulia Niu), 高鹏(Victor), 曾国烈, 惠康康(KK), 何凯锋...  2022-12-30 18:15:00   \n",
              "1  [李春辉, 李祖品(Ben Li), 侯晓路(Wall Hou), 马新(Ash), 王天兴...  2022-12-30 17:15:00   \n",
              "2  [万憬明(Jimmy), 古海雯(W9052060), 牛心悦(Yulia Niu), 黄珂...  2022-12-30 16:15:00   \n",
              "3  [LONG WANG, HONG FAN, 张冀(Jeme), 胡涛(Hu Tao), 牛心...  2022-12-30 15:00:00   \n",
              "4  [牛心悦(Yulia Niu), Logan(80366572), 张学勇(Paddy), ...  2022-12-30 14:00:00   \n",
              "\n",
              "                  结束时间     创建者工号        创建者姓名                 创建时间  \\\n",
              "0  2022-12-30 19:30:00  80040860  黄芳芸(Jenney)  2022-12-29 17:01:28   \n",
              "1  2022-12-30 18:15:00  80263938          黄德祥  2022-12-02 16:19:48   \n",
              "2  2022-12-30 17:10:00  80261790           曹磊  2022-12-09 14:40:29   \n",
              "3  2022-12-30 16:00:00  80364809       Nathan  2022-12-27 15:59:09   \n",
              "4  2022-12-30 15:00:00  80277000    齐娟(Amber)  2022-12-26 18:04:22   \n",
              "\n",
              "                                  地点  \\\n",
              "0                        F2-218&Zoom   \n",
              "1  春笋会议地址：2712     长安工业园：F2生产楼-3楼301   \n",
              "2     春笋3508&长安生产楼2楼2-203(Kevin办公室旁)   \n",
              "3                               zoom   \n",
              "4                                NaN   \n",
              "\n",
              "                                                  备注                 更新时间  \\\n",
              "0  <p>1.器件决策小组与器件规划会的管理边界</p><p>2.规划外新开的定义澄清</p><...  2022-12-30 17:52:27   \n",
              "1  <div id=\"copy-schedule\"><br/><hr tabindex=\"-1\"...  2022-12-29 10:07:53   \n",
              "2  <p>议题1、供应链创新技术点对齐——庞钰驹 15min</p><p>随议题：吕杰、赵燕桥、...  2022-12-30 14:29:21   \n",
              "3  <span style=\"color:#111112; background:#D7F5C9...  2022-12-28 08:42:25   \n",
              "4  <div id=\"copy-schedule\"><br><hr tabindex=\"-1\" ...  2022-12-29 21:46:49   \n",
              "\n",
              "  time_converetd_started  time_converetd_end     time period  \n",
              "0    2022-12-30 18:15:00 2022-12-30 19:30:00 0 days 01:15:00  \n",
              "1    2022-12-30 17:15:00 2022-12-30 18:15:00 0 days 01:00:00  \n",
              "2    2022-12-30 16:15:00 2022-12-30 17:10:00 0 days 00:55:00  \n",
              "3    2022-12-30 15:00:00 2022-12-30 16:00:00 0 days 01:00:00  \n",
              "4    2022-12-30 14:00:00 2022-12-30 15:00:00 0 days 01:00:00  "
            ],
            "text/html": [
              "\n",
              "  <div id=\"df-b785f6d6-a278-4051-b9ab-f6d141c720fa\">\n",
              "    <div class=\"colab-df-container\">\n",
              "      <div>\n",
              "<style scoped>\n",
              "    .dataframe tbody tr th:only-of-type {\n",
              "        vertical-align: middle;\n",
              "    }\n",
              "\n",
              "    .dataframe tbody tr th {\n",
              "        vertical-align: top;\n",
              "    }\n",
              "\n",
              "    .dataframe thead th {\n",
              "        text-align: right;\n",
              "    }\n",
              "</style>\n",
              "<table border=\"1\" class=\"dataframe\">\n",
              "  <thead>\n",
              "    <tr style=\"text-align: right;\">\n",
              "      <th></th>\n",
              "      <th>ID</th>\n",
              "      <th>标题</th>\n",
              "      <th>参与者</th>\n",
              "      <th>开始时间</th>\n",
              "      <th>结束时间</th>\n",
              "      <th>创建者工号</th>\n",
              "      <th>创建者姓名</th>\n",
              "      <th>创建时间</th>\n",
              "      <th>地点</th>\n",
              "      <th>备注</th>\n",
              "      <th>更新时间</th>\n",
              "      <th>time_converetd_started</th>\n",
              "      <th>time_converetd_end</th>\n",
              "      <th>time period</th>\n",
              "    </tr>\n",
              "  </thead>\n",
              "  <tbody>\n",
              "    <tr>\n",
              "      <th>0</th>\n",
              "      <td>63ad5768adfaf902e898e243</td>\n",
              "      <td>CBB相关内容沟通</td>\n",
              "      <td>[牛心悦(Yulia Niu), 高鹏(Victor), 曾国烈, 惠康康(KK), 何凯锋...</td>\n",
              "      <td>2022-12-30 18:15:00</td>\n",
              "      <td>2022-12-30 19:30:00</td>\n",
              "      <td>80040860</td>\n",
              "      <td>黄芳芸(Jenney)</td>\n",
              "      <td>2022-12-29 17:01:28</td>\n",
              "      <td>F2-218&amp;Zoom</td>\n",
              "      <td>&lt;p&gt;1.器件决策小组与器件规划会的管理边界&lt;/p&gt;&lt;p&gt;2.规划外新开的定义澄清&lt;/p&gt;&lt;...</td>\n",
              "      <td>2022-12-30 17:52:27</td>\n",
              "      <td>2022-12-30 18:15:00</td>\n",
              "      <td>2022-12-30 19:30:00</td>\n",
              "      <td>0 days 01:15:00</td>\n",
              "    </tr>\n",
              "    <tr>\n",
              "      <th>1</th>\n",
              "      <td>6389b52469e3fa01d9d96592</td>\n",
              "      <td>Salami项目出货评审会邀请（调整至12/30（周五）下午17:15）</td>\n",
              "      <td>[李春辉, 李祖品(Ben Li), 侯晓路(Wall Hou), 马新(Ash), 王天兴...</td>\n",
              "      <td>2022-12-30 17:15:00</td>\n",
              "      <td>2022-12-30 18:15:00</td>\n",
              "      <td>80263938</td>\n",
              "      <td>黄德祥</td>\n",
              "      <td>2022-12-02 16:19:48</td>\n",
              "      <td>春笋会议地址：2712     长安工业园：F2生产楼-3楼301</td>\n",
              "      <td>&lt;div id=\"copy-schedule\"&gt;&lt;br/&gt;&lt;hr tabindex=\"-1\"...</td>\n",
              "      <td>2022-12-29 10:07:53</td>\n",
              "      <td>2022-12-30 17:15:00</td>\n",
              "      <td>2022-12-30 18:15:00</td>\n",
              "      <td>0 days 01:00:00</td>\n",
              "    </tr>\n",
              "    <tr>\n",
              "      <th>2</th>\n",
              "      <td>6392d85d5b5806039c4a98cf</td>\n",
              "      <td>技术竞争力会（双周例会）</td>\n",
              "      <td>[万憬明(Jimmy), 古海雯(W9052060), 牛心悦(Yulia Niu), 黄珂...</td>\n",
              "      <td>2022-12-30 16:15:00</td>\n",
              "      <td>2022-12-30 17:10:00</td>\n",
              "      <td>80261790</td>\n",
              "      <td>曹磊</td>\n",
              "      <td>2022-12-09 14:40:29</td>\n",
              "      <td>春笋3508&amp;长安生产楼2楼2-203(Kevin办公室旁)</td>\n",
              "      <td>&lt;p&gt;议题1、供应链创新技术点对齐——庞钰驹 15min&lt;/p&gt;&lt;p&gt;随议题：吕杰、赵燕桥、...</td>\n",
              "      <td>2022-12-30 14:29:21</td>\n",
              "      <td>2022-12-30 16:15:00</td>\n",
              "      <td>2022-12-30 17:10:00</td>\n",
              "      <td>0 days 00:55:00</td>\n",
              "    </tr>\n",
              "    <tr>\n",
              "      <th>3</th>\n",
              "      <td>63aaa5cde3034903e47fbd78</td>\n",
              "      <td>凤凰座状态对齐</td>\n",
              "      <td>[LONG WANG, HONG FAN, 张冀(Jeme), 胡涛(Hu Tao), 牛心...</td>\n",
              "      <td>2022-12-30 15:00:00</td>\n",
              "      <td>2022-12-30 16:00:00</td>\n",
              "      <td>80364809</td>\n",
              "      <td>Nathan</td>\n",
              "      <td>2022-12-27 15:59:09</td>\n",
              "      <td>zoom</td>\n",
              "      <td>&lt;span style=\"color:#111112; background:#D7F5C9...</td>\n",
              "      <td>2022-12-28 08:42:25</td>\n",
              "      <td>2022-12-30 15:00:00</td>\n",
              "      <td>2022-12-30 16:00:00</td>\n",
              "      <td>0 days 01:00:00</td>\n",
              "    </tr>\n",
              "    <tr>\n",
              "      <th>4</th>\n",
              "      <td>63a971a6f3df5503c04f5c33</td>\n",
              "      <td>自研存储研讨</td>\n",
              "      <td>[牛心悦(Yulia Niu), Logan(80366572), 张学勇(Paddy), ...</td>\n",
              "      <td>2022-12-30 14:00:00</td>\n",
              "      <td>2022-12-30 15:00:00</td>\n",
              "      <td>80277000</td>\n",
              "      <td>齐娟(Amber)</td>\n",
              "      <td>2022-12-26 18:04:22</td>\n",
              "      <td>NaN</td>\n",
              "      <td>&lt;div id=\"copy-schedule\"&gt;&lt;br&gt;&lt;hr tabindex=\"-1\" ...</td>\n",
              "      <td>2022-12-29 21:46:49</td>\n",
              "      <td>2022-12-30 14:00:00</td>\n",
              "      <td>2022-12-30 15:00:00</td>\n",
              "      <td>0 days 01:00:00</td>\n",
              "    </tr>\n",
              "  </tbody>\n",
              "</table>\n",
              "</div>\n",
              "      <button class=\"colab-df-convert\" onclick=\"convertToInteractive('df-b785f6d6-a278-4051-b9ab-f6d141c720fa')\"\n",
              "              title=\"Convert this dataframe to an interactive table.\"\n",
              "              style=\"display:none;\">\n",
              "        \n",
              "  <svg xmlns=\"http://www.w3.org/2000/svg\" height=\"24px\"viewBox=\"0 0 24 24\"\n",
              "       width=\"24px\">\n",
              "    <path d=\"M0 0h24v24H0V0z\" fill=\"none\"/>\n",
              "    <path d=\"M18.56 5.44l.94 2.06.94-2.06 2.06-.94-2.06-.94-.94-2.06-.94 2.06-2.06.94zm-11 1L8.5 8.5l.94-2.06 2.06-.94-2.06-.94L8.5 2.5l-.94 2.06-2.06.94zm10 10l.94 2.06.94-2.06 2.06-.94-2.06-.94-.94-2.06-.94 2.06-2.06.94z\"/><path d=\"M17.41 7.96l-1.37-1.37c-.4-.4-.92-.59-1.43-.59-.52 0-1.04.2-1.43.59L10.3 9.45l-7.72 7.72c-.78.78-.78 2.05 0 2.83L4 21.41c.39.39.9.59 1.41.59.51 0 1.02-.2 1.41-.59l7.78-7.78 2.81-2.81c.8-.78.8-2.07 0-2.86zM5.41 20L4 18.59l7.72-7.72 1.47 1.35L5.41 20z\"/>\n",
              "  </svg>\n",
              "      </button>\n",
              "      \n",
              "  <style>\n",
              "    .colab-df-container {\n",
              "      display:flex;\n",
              "      flex-wrap:wrap;\n",
              "      gap: 12px;\n",
              "    }\n",
              "\n",
              "    .colab-df-convert {\n",
              "      background-color: #E8F0FE;\n",
              "      border: none;\n",
              "      border-radius: 50%;\n",
              "      cursor: pointer;\n",
              "      display: none;\n",
              "      fill: #1967D2;\n",
              "      height: 32px;\n",
              "      padding: 0 0 0 0;\n",
              "      width: 32px;\n",
              "    }\n",
              "\n",
              "    .colab-df-convert:hover {\n",
              "      background-color: #E2EBFA;\n",
              "      box-shadow: 0px 1px 2px rgba(60, 64, 67, 0.3), 0px 1px 3px 1px rgba(60, 64, 67, 0.15);\n",
              "      fill: #174EA6;\n",
              "    }\n",
              "\n",
              "    [theme=dark] .colab-df-convert {\n",
              "      background-color: #3B4455;\n",
              "      fill: #D2E3FC;\n",
              "    }\n",
              "\n",
              "    [theme=dark] .colab-df-convert:hover {\n",
              "      background-color: #434B5C;\n",
              "      box-shadow: 0px 1px 3px 1px rgba(0, 0, 0, 0.15);\n",
              "      filter: drop-shadow(0px 1px 2px rgba(0, 0, 0, 0.3));\n",
              "      fill: #FFFFFF;\n",
              "    }\n",
              "  </style>\n",
              "\n",
              "      <script>\n",
              "        const buttonEl =\n",
              "          document.querySelector('#df-b785f6d6-a278-4051-b9ab-f6d141c720fa button.colab-df-convert');\n",
              "        buttonEl.style.display =\n",
              "          google.colab.kernel.accessAllowed ? 'block' : 'none';\n",
              "\n",
              "        async function convertToInteractive(key) {\n",
              "          const element = document.querySelector('#df-b785f6d6-a278-4051-b9ab-f6d141c720fa');\n",
              "          const dataTable =\n",
              "            await google.colab.kernel.invokeFunction('convertToInteractive',\n",
              "                                                     [key], {});\n",
              "          if (!dataTable) return;\n",
              "\n",
              "          const docLinkHtml = 'Like what you see? Visit the ' +\n",
              "            '<a target=\"_blank\" href=https://colab.research.google.com/notebooks/data_table.ipynb>data table notebook</a>'\n",
              "            + ' to learn more about interactive tables.';\n",
              "          element.innerHTML = '';\n",
              "          dataTable['output_type'] = 'display_data';\n",
              "          await google.colab.output.renderOutput(dataTable, element);\n",
              "          const docLink = document.createElement('div');\n",
              "          docLink.innerHTML = docLinkHtml;\n",
              "          element.appendChild(docLink);\n",
              "        }\n",
              "      </script>\n",
              "    </div>\n",
              "  </div>\n",
              "  "
            ]
          },
          "metadata": {},
          "execution_count": 138
        }
      ]
    },
    {
      "cell_type": "code",
      "source": [
        "#clear\n",
        "df_new = df[['标题','创建者姓名','创建者工号','参与者','time_converetd_started','time period']].copy()\n",
        "df_new = df_new.reset_index(level=0)\n",
        "df_new = df_new.drop('index', axis=1)\n",
        "df_new['time period']=df_new['time period'].astype('timedelta64[m]')"
      ],
      "metadata": {
        "id": "76LJtWCd8qyJ"
      },
      "execution_count": null,
      "outputs": []
    },
    {
      "cell_type": "markdown",
      "source": [
        "# 出差时间分析"
      ],
      "metadata": {
        "id": "7cdZpVKZcnfn"
      }
    },
    {
      "cell_type": "code",
      "source": [
        "df_travel=df_new.loc[df_new['标题'].isin(['出差-Travel'])]\n",
        "df_travel.head()"
      ],
      "metadata": {
        "colab": {
          "base_uri": "https://localhost:8080/",
          "height": 330
        },
        "id": "n6rQCv2hVYlJ",
        "outputId": "dbba46b1-bb87-4b61-aed3-31807446bafa"
      },
      "execution_count": null,
      "outputs": [
        {
          "output_type": "execute_result",
          "data": {
            "text/plain": [
              "            标题 创建者姓名     创建者工号  \\\n",
              "30   出差-Travel   管理员  TB000000   \n",
              "177  出差-Travel   管理员  TB000000   \n",
              "258  出差-Travel   管理员  TB000000   \n",
              "338  出差-Travel   管理员  TB000000   \n",
              "387  出差-Travel   管理员  TB000000   \n",
              "\n",
              "                                                   参与者 time_converetd_started  \\\n",
              "30   [李春辉, 牛心悦(Yulia Niu), 祝志诚(Andy Zhu), 罗成(Roger)...    2022-12-23 06:00:00   \n",
              "177                                 [管理员, 王兆祥(Steven)]    2022-11-22 06:00:00   \n",
              "258                                 [管理员, 王兆祥(Steven)]    2022-11-08 06:00:00   \n",
              "338  [古海雯(W9052060), 廖新风(Rocky), 吴呈煜(Joy Wu), 宋涛(Lo...    2022-10-22 08:44:00   \n",
              "387                                 [管理员, 王兆祥(Steven)]    2022-10-13 13:00:00   \n",
              "\n",
              "     time period  \n",
              "30        3959.0  \n",
              "177       3900.0  \n",
              "258       3480.0  \n",
              "338        900.0  \n",
              "387       2099.0  "
            ],
            "text/html": [
              "\n",
              "  <div id=\"df-89915445-5f76-414d-9448-3ae65faedb9b\">\n",
              "    <div class=\"colab-df-container\">\n",
              "      <div>\n",
              "<style scoped>\n",
              "    .dataframe tbody tr th:only-of-type {\n",
              "        vertical-align: middle;\n",
              "    }\n",
              "\n",
              "    .dataframe tbody tr th {\n",
              "        vertical-align: top;\n",
              "    }\n",
              "\n",
              "    .dataframe thead th {\n",
              "        text-align: right;\n",
              "    }\n",
              "</style>\n",
              "<table border=\"1\" class=\"dataframe\">\n",
              "  <thead>\n",
              "    <tr style=\"text-align: right;\">\n",
              "      <th></th>\n",
              "      <th>标题</th>\n",
              "      <th>创建者姓名</th>\n",
              "      <th>创建者工号</th>\n",
              "      <th>参与者</th>\n",
              "      <th>time_converetd_started</th>\n",
              "      <th>time period</th>\n",
              "    </tr>\n",
              "  </thead>\n",
              "  <tbody>\n",
              "    <tr>\n",
              "      <th>30</th>\n",
              "      <td>出差-Travel</td>\n",
              "      <td>管理员</td>\n",
              "      <td>TB000000</td>\n",
              "      <td>[李春辉, 牛心悦(Yulia Niu), 祝志诚(Andy Zhu), 罗成(Roger)...</td>\n",
              "      <td>2022-12-23 06:00:00</td>\n",
              "      <td>3959.0</td>\n",
              "    </tr>\n",
              "    <tr>\n",
              "      <th>177</th>\n",
              "      <td>出差-Travel</td>\n",
              "      <td>管理员</td>\n",
              "      <td>TB000000</td>\n",
              "      <td>[管理员, 王兆祥(Steven)]</td>\n",
              "      <td>2022-11-22 06:00:00</td>\n",
              "      <td>3900.0</td>\n",
              "    </tr>\n",
              "    <tr>\n",
              "      <th>258</th>\n",
              "      <td>出差-Travel</td>\n",
              "      <td>管理员</td>\n",
              "      <td>TB000000</td>\n",
              "      <td>[管理员, 王兆祥(Steven)]</td>\n",
              "      <td>2022-11-08 06:00:00</td>\n",
              "      <td>3480.0</td>\n",
              "    </tr>\n",
              "    <tr>\n",
              "      <th>338</th>\n",
              "      <td>出差-Travel</td>\n",
              "      <td>管理员</td>\n",
              "      <td>TB000000</td>\n",
              "      <td>[古海雯(W9052060), 廖新风(Rocky), 吴呈煜(Joy Wu), 宋涛(Lo...</td>\n",
              "      <td>2022-10-22 08:44:00</td>\n",
              "      <td>900.0</td>\n",
              "    </tr>\n",
              "    <tr>\n",
              "      <th>387</th>\n",
              "      <td>出差-Travel</td>\n",
              "      <td>管理员</td>\n",
              "      <td>TB000000</td>\n",
              "      <td>[管理员, 王兆祥(Steven)]</td>\n",
              "      <td>2022-10-13 13:00:00</td>\n",
              "      <td>2099.0</td>\n",
              "    </tr>\n",
              "  </tbody>\n",
              "</table>\n",
              "</div>\n",
              "      <button class=\"colab-df-convert\" onclick=\"convertToInteractive('df-89915445-5f76-414d-9448-3ae65faedb9b')\"\n",
              "              title=\"Convert this dataframe to an interactive table.\"\n",
              "              style=\"display:none;\">\n",
              "        \n",
              "  <svg xmlns=\"http://www.w3.org/2000/svg\" height=\"24px\"viewBox=\"0 0 24 24\"\n",
              "       width=\"24px\">\n",
              "    <path d=\"M0 0h24v24H0V0z\" fill=\"none\"/>\n",
              "    <path d=\"M18.56 5.44l.94 2.06.94-2.06 2.06-.94-2.06-.94-.94-2.06-.94 2.06-2.06.94zm-11 1L8.5 8.5l.94-2.06 2.06-.94-2.06-.94L8.5 2.5l-.94 2.06-2.06.94zm10 10l.94 2.06.94-2.06 2.06-.94-2.06-.94-.94-2.06-.94 2.06-2.06.94z\"/><path d=\"M17.41 7.96l-1.37-1.37c-.4-.4-.92-.59-1.43-.59-.52 0-1.04.2-1.43.59L10.3 9.45l-7.72 7.72c-.78.78-.78 2.05 0 2.83L4 21.41c.39.39.9.59 1.41.59.51 0 1.02-.2 1.41-.59l7.78-7.78 2.81-2.81c.8-.78.8-2.07 0-2.86zM5.41 20L4 18.59l7.72-7.72 1.47 1.35L5.41 20z\"/>\n",
              "  </svg>\n",
              "      </button>\n",
              "      \n",
              "  <style>\n",
              "    .colab-df-container {\n",
              "      display:flex;\n",
              "      flex-wrap:wrap;\n",
              "      gap: 12px;\n",
              "    }\n",
              "\n",
              "    .colab-df-convert {\n",
              "      background-color: #E8F0FE;\n",
              "      border: none;\n",
              "      border-radius: 50%;\n",
              "      cursor: pointer;\n",
              "      display: none;\n",
              "      fill: #1967D2;\n",
              "      height: 32px;\n",
              "      padding: 0 0 0 0;\n",
              "      width: 32px;\n",
              "    }\n",
              "\n",
              "    .colab-df-convert:hover {\n",
              "      background-color: #E2EBFA;\n",
              "      box-shadow: 0px 1px 2px rgba(60, 64, 67, 0.3), 0px 1px 3px 1px rgba(60, 64, 67, 0.15);\n",
              "      fill: #174EA6;\n",
              "    }\n",
              "\n",
              "    [theme=dark] .colab-df-convert {\n",
              "      background-color: #3B4455;\n",
              "      fill: #D2E3FC;\n",
              "    }\n",
              "\n",
              "    [theme=dark] .colab-df-convert:hover {\n",
              "      background-color: #434B5C;\n",
              "      box-shadow: 0px 1px 3px 1px rgba(0, 0, 0, 0.15);\n",
              "      filter: drop-shadow(0px 1px 2px rgba(0, 0, 0, 0.3));\n",
              "      fill: #FFFFFF;\n",
              "    }\n",
              "  </style>\n",
              "\n",
              "      <script>\n",
              "        const buttonEl =\n",
              "          document.querySelector('#df-89915445-5f76-414d-9448-3ae65faedb9b button.colab-df-convert');\n",
              "        buttonEl.style.display =\n",
              "          google.colab.kernel.accessAllowed ? 'block' : 'none';\n",
              "\n",
              "        async function convertToInteractive(key) {\n",
              "          const element = document.querySelector('#df-89915445-5f76-414d-9448-3ae65faedb9b');\n",
              "          const dataTable =\n",
              "            await google.colab.kernel.invokeFunction('convertToInteractive',\n",
              "                                                     [key], {});\n",
              "          if (!dataTable) return;\n",
              "\n",
              "          const docLinkHtml = 'Like what you see? Visit the ' +\n",
              "            '<a target=\"_blank\" href=https://colab.research.google.com/notebooks/data_table.ipynb>data table notebook</a>'\n",
              "            + ' to learn more about interactive tables.';\n",
              "          element.innerHTML = '';\n",
              "          dataTable['output_type'] = 'display_data';\n",
              "          await google.colab.output.renderOutput(dataTable, element);\n",
              "          const docLink = document.createElement('div');\n",
              "          docLink.innerHTML = docLinkHtml;\n",
              "          element.appendChild(docLink);\n",
              "        }\n",
              "      </script>\n",
              "    </div>\n",
              "  </div>\n",
              "  "
            ]
          },
          "metadata": {},
          "execution_count": 127
        }
      ]
    },
    {
      "cell_type": "code",
      "source": [
        "travel_counts=df_travel['time period'].count()\n",
        "travel_total_time=int(df_travel['time period'].sum()/60)/24\n",
        "travel_mean=round(int(df_travel['time period'].mean()/60)/24,2)"
      ],
      "metadata": {
        "id": "XxmXCDd6vH0u"
      },
      "execution_count": null,
      "outputs": []
    },
    {
      "cell_type": "code",
      "source": [
        "print(\"2022全年共计出差\",travel_counts,\"次(但由于疫情影响，中间参杂临近取消情况，故实际更少),\",\"共计\",travel_total_time,\"天,\",\"平均每次\",travel_mean,\"天\")"
      ],
      "metadata": {
        "colab": {
          "base_uri": "https://localhost:8080/"
        },
        "id": "7rnByRDz3yga",
        "outputId": "036c2756-ccde-4c6f-e216-9b447f126e5e"
      },
      "execution_count": null,
      "outputs": [
        {
          "output_type": "stream",
          "name": "stdout",
          "text": [
            "2022全年共计出差 47 次(但由于疫情影响，中间参杂临近取消情况，故实际更少), 共计 63.0 天, 平均每次 1.33 天\n"
          ]
        }
      ]
    },
    {
      "cell_type": "markdown",
      "source": [
        "# 非出差时间分析"
      ],
      "metadata": {
        "id": "--oqOX2dchSP"
      }
    },
    {
      "cell_type": "code",
      "source": [
        "df_notravel = df_new[(df_new['time period'] <720) & (df_new['标题']!='出差-Travel')]"
      ],
      "metadata": {
        "id": "E-4j9hbEVJlg"
      },
      "execution_count": null,
      "outputs": []
    },
    {
      "cell_type": "code",
      "source": [
        "df_notravel.head()"
      ],
      "metadata": {
        "colab": {
          "base_uri": "https://localhost:8080/",
          "height": 281
        },
        "id": "BCCvIElr7PTm",
        "outputId": "a936e8ba-2a02-421e-bc4b-4d7c6b43628f"
      },
      "execution_count": null,
      "outputs": [
        {
          "output_type": "execute_result",
          "data": {
            "text/plain": [
              "                                     标题        创建者姓名     创建者工号  \\\n",
              "0                             CBB相关内容沟通  黄芳芸(Jenney)  80040860   \n",
              "1  Salami项目出货评审会邀请（调整至12/30（周五）下午17:15）          黄德祥  80263938   \n",
              "2                          技术竞争力会（双周例会）           曹磊  80261790   \n",
              "3                               凤凰座状态对齐       Nathan  80364809   \n",
              "4                                自研存储研讨    齐娟(Amber)  80277000   \n",
              "\n",
              "                                                 参与者 time_converetd_started  \\\n",
              "0  [牛心悦(Yulia Niu), 高鹏(Victor), 曾国烈, 惠康康(KK), 何凯锋...    2022-12-30 18:15:00   \n",
              "1  [李春辉, 李祖品(Ben Li), 侯晓路(Wall Hou), 马新(Ash), 王天兴...    2022-12-30 17:15:00   \n",
              "2  [万憬明(Jimmy), 古海雯(W9052060), 牛心悦(Yulia Niu), 黄珂...    2022-12-30 16:15:00   \n",
              "3  [LONG WANG, HONG FAN, 张冀(Jeme), 胡涛(Hu Tao), 牛心...    2022-12-30 15:00:00   \n",
              "4  [牛心悦(Yulia Niu), Logan(80366572), 张学勇(Paddy), ...    2022-12-30 14:00:00   \n",
              "\n",
              "   time period  \n",
              "0         75.0  \n",
              "1         60.0  \n",
              "2         55.0  \n",
              "3         60.0  \n",
              "4         60.0  "
            ],
            "text/html": [
              "\n",
              "  <div id=\"df-f5c8ac5e-a0b9-4121-ade1-43e76d46a638\">\n",
              "    <div class=\"colab-df-container\">\n",
              "      <div>\n",
              "<style scoped>\n",
              "    .dataframe tbody tr th:only-of-type {\n",
              "        vertical-align: middle;\n",
              "    }\n",
              "\n",
              "    .dataframe tbody tr th {\n",
              "        vertical-align: top;\n",
              "    }\n",
              "\n",
              "    .dataframe thead th {\n",
              "        text-align: right;\n",
              "    }\n",
              "</style>\n",
              "<table border=\"1\" class=\"dataframe\">\n",
              "  <thead>\n",
              "    <tr style=\"text-align: right;\">\n",
              "      <th></th>\n",
              "      <th>标题</th>\n",
              "      <th>创建者姓名</th>\n",
              "      <th>创建者工号</th>\n",
              "      <th>参与者</th>\n",
              "      <th>time_converetd_started</th>\n",
              "      <th>time period</th>\n",
              "    </tr>\n",
              "  </thead>\n",
              "  <tbody>\n",
              "    <tr>\n",
              "      <th>0</th>\n",
              "      <td>CBB相关内容沟通</td>\n",
              "      <td>黄芳芸(Jenney)</td>\n",
              "      <td>80040860</td>\n",
              "      <td>[牛心悦(Yulia Niu), 高鹏(Victor), 曾国烈, 惠康康(KK), 何凯锋...</td>\n",
              "      <td>2022-12-30 18:15:00</td>\n",
              "      <td>75.0</td>\n",
              "    </tr>\n",
              "    <tr>\n",
              "      <th>1</th>\n",
              "      <td>Salami项目出货评审会邀请（调整至12/30（周五）下午17:15）</td>\n",
              "      <td>黄德祥</td>\n",
              "      <td>80263938</td>\n",
              "      <td>[李春辉, 李祖品(Ben Li), 侯晓路(Wall Hou), 马新(Ash), 王天兴...</td>\n",
              "      <td>2022-12-30 17:15:00</td>\n",
              "      <td>60.0</td>\n",
              "    </tr>\n",
              "    <tr>\n",
              "      <th>2</th>\n",
              "      <td>技术竞争力会（双周例会）</td>\n",
              "      <td>曹磊</td>\n",
              "      <td>80261790</td>\n",
              "      <td>[万憬明(Jimmy), 古海雯(W9052060), 牛心悦(Yulia Niu), 黄珂...</td>\n",
              "      <td>2022-12-30 16:15:00</td>\n",
              "      <td>55.0</td>\n",
              "    </tr>\n",
              "    <tr>\n",
              "      <th>3</th>\n",
              "      <td>凤凰座状态对齐</td>\n",
              "      <td>Nathan</td>\n",
              "      <td>80364809</td>\n",
              "      <td>[LONG WANG, HONG FAN, 张冀(Jeme), 胡涛(Hu Tao), 牛心...</td>\n",
              "      <td>2022-12-30 15:00:00</td>\n",
              "      <td>60.0</td>\n",
              "    </tr>\n",
              "    <tr>\n",
              "      <th>4</th>\n",
              "      <td>自研存储研讨</td>\n",
              "      <td>齐娟(Amber)</td>\n",
              "      <td>80277000</td>\n",
              "      <td>[牛心悦(Yulia Niu), Logan(80366572), 张学勇(Paddy), ...</td>\n",
              "      <td>2022-12-30 14:00:00</td>\n",
              "      <td>60.0</td>\n",
              "    </tr>\n",
              "  </tbody>\n",
              "</table>\n",
              "</div>\n",
              "      <button class=\"colab-df-convert\" onclick=\"convertToInteractive('df-f5c8ac5e-a0b9-4121-ade1-43e76d46a638')\"\n",
              "              title=\"Convert this dataframe to an interactive table.\"\n",
              "              style=\"display:none;\">\n",
              "        \n",
              "  <svg xmlns=\"http://www.w3.org/2000/svg\" height=\"24px\"viewBox=\"0 0 24 24\"\n",
              "       width=\"24px\">\n",
              "    <path d=\"M0 0h24v24H0V0z\" fill=\"none\"/>\n",
              "    <path d=\"M18.56 5.44l.94 2.06.94-2.06 2.06-.94-2.06-.94-.94-2.06-.94 2.06-2.06.94zm-11 1L8.5 8.5l.94-2.06 2.06-.94-2.06-.94L8.5 2.5l-.94 2.06-2.06.94zm10 10l.94 2.06.94-2.06 2.06-.94-2.06-.94-.94-2.06-.94 2.06-2.06.94z\"/><path d=\"M17.41 7.96l-1.37-1.37c-.4-.4-.92-.59-1.43-.59-.52 0-1.04.2-1.43.59L10.3 9.45l-7.72 7.72c-.78.78-.78 2.05 0 2.83L4 21.41c.39.39.9.59 1.41.59.51 0 1.02-.2 1.41-.59l7.78-7.78 2.81-2.81c.8-.78.8-2.07 0-2.86zM5.41 20L4 18.59l7.72-7.72 1.47 1.35L5.41 20z\"/>\n",
              "  </svg>\n",
              "      </button>\n",
              "      \n",
              "  <style>\n",
              "    .colab-df-container {\n",
              "      display:flex;\n",
              "      flex-wrap:wrap;\n",
              "      gap: 12px;\n",
              "    }\n",
              "\n",
              "    .colab-df-convert {\n",
              "      background-color: #E8F0FE;\n",
              "      border: none;\n",
              "      border-radius: 50%;\n",
              "      cursor: pointer;\n",
              "      display: none;\n",
              "      fill: #1967D2;\n",
              "      height: 32px;\n",
              "      padding: 0 0 0 0;\n",
              "      width: 32px;\n",
              "    }\n",
              "\n",
              "    .colab-df-convert:hover {\n",
              "      background-color: #E2EBFA;\n",
              "      box-shadow: 0px 1px 2px rgba(60, 64, 67, 0.3), 0px 1px 3px 1px rgba(60, 64, 67, 0.15);\n",
              "      fill: #174EA6;\n",
              "    }\n",
              "\n",
              "    [theme=dark] .colab-df-convert {\n",
              "      background-color: #3B4455;\n",
              "      fill: #D2E3FC;\n",
              "    }\n",
              "\n",
              "    [theme=dark] .colab-df-convert:hover {\n",
              "      background-color: #434B5C;\n",
              "      box-shadow: 0px 1px 3px 1px rgba(0, 0, 0, 0.15);\n",
              "      filter: drop-shadow(0px 1px 2px rgba(0, 0, 0, 0.3));\n",
              "      fill: #FFFFFF;\n",
              "    }\n",
              "  </style>\n",
              "\n",
              "      <script>\n",
              "        const buttonEl =\n",
              "          document.querySelector('#df-f5c8ac5e-a0b9-4121-ade1-43e76d46a638 button.colab-df-convert');\n",
              "        buttonEl.style.display =\n",
              "          google.colab.kernel.accessAllowed ? 'block' : 'none';\n",
              "\n",
              "        async function convertToInteractive(key) {\n",
              "          const element = document.querySelector('#df-f5c8ac5e-a0b9-4121-ade1-43e76d46a638');\n",
              "          const dataTable =\n",
              "            await google.colab.kernel.invokeFunction('convertToInteractive',\n",
              "                                                     [key], {});\n",
              "          if (!dataTable) return;\n",
              "\n",
              "          const docLinkHtml = 'Like what you see? Visit the ' +\n",
              "            '<a target=\"_blank\" href=https://colab.research.google.com/notebooks/data_table.ipynb>data table notebook</a>'\n",
              "            + ' to learn more about interactive tables.';\n",
              "          element.innerHTML = '';\n",
              "          dataTable['output_type'] = 'display_data';\n",
              "          await google.colab.output.renderOutput(dataTable, element);\n",
              "          const docLink = document.createElement('div');\n",
              "          docLink.innerHTML = docLinkHtml;\n",
              "          element.appendChild(docLink);\n",
              "        }\n",
              "      </script>\n",
              "    </div>\n",
              "  </div>\n",
              "  "
            ]
          },
          "metadata": {},
          "execution_count": 107
        }
      ]
    },
    {
      "cell_type": "code",
      "source": [
        "Q1=df_notravel[df_notravel.time_converetd_started.between('2022-1-1','2022-4-1')]\n",
        "Q2=df_notravel[df_notravel.time_converetd_started.between('2022-4-1','2022-7-1')]\n",
        "Q3=df_notravel[df_notravel.time_converetd_started.between('2022-7-1','2022-10-1')]\n",
        "Q4=df_notravel[df_notravel.time_converetd_started.between('2022-10-1','2023-1-1')]\n",
        "total_hour=int(df_notravel['time period'].sum()/60)"
      ],
      "metadata": {
        "id": "jMBzGmpDkjAC"
      },
      "execution_count": null,
      "outputs": []
    },
    {
      "cell_type": "code",
      "source": [
        "print(\"2022全年共计总会议次数约为\",df_notravel['time period'].count(),\"次,\",\"总会议时间约为（单位：小时）\",total_hour,\"即\",total_hour/24,\"天\")\n",
        "print(\"四个季度的会议次数分别是\", Q1['time period'].count(), Q2['time period'].count(), Q3['time period'].count(), Q4['time period'].count())\n",
        "print(\"四个季度的会议时间分别是(单位：小时）\", int(Q1['time period'].sum()/60), int(Q2['time period'].sum()/60), int(Q3['time period'].sum()/60), int(Q4['time period'].sum()/60))"
      ],
      "metadata": {
        "colab": {
          "base_uri": "https://localhost:8080/"
        },
        "id": "vVSjw8Ikm1Gi",
        "outputId": "b77ae9df-2c9a-4391-9ecd-d1f17a72734c"
      },
      "execution_count": null,
      "outputs": [
        {
          "output_type": "stream",
          "name": "stdout",
          "text": [
            "2022全年共计总会议次数约为 1617 次, 总会议时间约为（单位：小时） 2436 即 101.5 天\n",
            "四个季度的会议次数分别是 388 406 418 405\n",
            "四个季度的会议时间分别是(单位：小时） 536 640 671 588\n"
          ]
        }
      ]
    },
    {
      "cell_type": "code",
      "source": [
        "# plot\n"
      ],
      "metadata": {
        "id": "FhSMIoxjtd-u"
      },
      "execution_count": null,
      "outputs": []
    },
    {
      "cell_type": "code",
      "source": [
        "df_notravel.loc[df_notravel['time period']==df_notravel['time period'].max()]"
      ],
      "metadata": {
        "colab": {
          "base_uri": "https://localhost:8080/",
          "height": 178
        },
        "id": "DVHZDxLzWTL0",
        "outputId": "a9740022-d9fd-4bdc-c973-b7d2362ed98d"
      },
      "execution_count": null,
      "outputs": [
        {
          "output_type": "execute_result",
          "data": {
            "text/plain": [
              "               标题        创建者姓名     创建者工号  \\\n",
              "1291  OPPO日常管理工作坊  郑倩榆(Channy)  80275761   \n",
              "\n",
              "                                                    参与者  \\\n",
              "1291  [刘玲(Cara), 黎诗琦(Suki), 尹文广(Garven Yin), 何凯锋(Ric...   \n",
              "\n",
              "     time_converetd_started  time period  \n",
              "1291    2022-03-30 09:00:00        600.0  "
            ],
            "text/html": [
              "\n",
              "  <div id=\"df-06d549fd-e3f7-404f-9fde-ac808dfd4db4\">\n",
              "    <div class=\"colab-df-container\">\n",
              "      <div>\n",
              "<style scoped>\n",
              "    .dataframe tbody tr th:only-of-type {\n",
              "        vertical-align: middle;\n",
              "    }\n",
              "\n",
              "    .dataframe tbody tr th {\n",
              "        vertical-align: top;\n",
              "    }\n",
              "\n",
              "    .dataframe thead th {\n",
              "        text-align: right;\n",
              "    }\n",
              "</style>\n",
              "<table border=\"1\" class=\"dataframe\">\n",
              "  <thead>\n",
              "    <tr style=\"text-align: right;\">\n",
              "      <th></th>\n",
              "      <th>标题</th>\n",
              "      <th>创建者姓名</th>\n",
              "      <th>创建者工号</th>\n",
              "      <th>参与者</th>\n",
              "      <th>time_converetd_started</th>\n",
              "      <th>time period</th>\n",
              "    </tr>\n",
              "  </thead>\n",
              "  <tbody>\n",
              "    <tr>\n",
              "      <th>1291</th>\n",
              "      <td>OPPO日常管理工作坊</td>\n",
              "      <td>郑倩榆(Channy)</td>\n",
              "      <td>80275761</td>\n",
              "      <td>[刘玲(Cara), 黎诗琦(Suki), 尹文广(Garven Yin), 何凯锋(Ric...</td>\n",
              "      <td>2022-03-30 09:00:00</td>\n",
              "      <td>600.0</td>\n",
              "    </tr>\n",
              "  </tbody>\n",
              "</table>\n",
              "</div>\n",
              "      <button class=\"colab-df-convert\" onclick=\"convertToInteractive('df-06d549fd-e3f7-404f-9fde-ac808dfd4db4')\"\n",
              "              title=\"Convert this dataframe to an interactive table.\"\n",
              "              style=\"display:none;\">\n",
              "        \n",
              "  <svg xmlns=\"http://www.w3.org/2000/svg\" height=\"24px\"viewBox=\"0 0 24 24\"\n",
              "       width=\"24px\">\n",
              "    <path d=\"M0 0h24v24H0V0z\" fill=\"none\"/>\n",
              "    <path d=\"M18.56 5.44l.94 2.06.94-2.06 2.06-.94-2.06-.94-.94-2.06-.94 2.06-2.06.94zm-11 1L8.5 8.5l.94-2.06 2.06-.94-2.06-.94L8.5 2.5l-.94 2.06-2.06.94zm10 10l.94 2.06.94-2.06 2.06-.94-2.06-.94-.94-2.06-.94 2.06-2.06.94z\"/><path d=\"M17.41 7.96l-1.37-1.37c-.4-.4-.92-.59-1.43-.59-.52 0-1.04.2-1.43.59L10.3 9.45l-7.72 7.72c-.78.78-.78 2.05 0 2.83L4 21.41c.39.39.9.59 1.41.59.51 0 1.02-.2 1.41-.59l7.78-7.78 2.81-2.81c.8-.78.8-2.07 0-2.86zM5.41 20L4 18.59l7.72-7.72 1.47 1.35L5.41 20z\"/>\n",
              "  </svg>\n",
              "      </button>\n",
              "      \n",
              "  <style>\n",
              "    .colab-df-container {\n",
              "      display:flex;\n",
              "      flex-wrap:wrap;\n",
              "      gap: 12px;\n",
              "    }\n",
              "\n",
              "    .colab-df-convert {\n",
              "      background-color: #E8F0FE;\n",
              "      border: none;\n",
              "      border-radius: 50%;\n",
              "      cursor: pointer;\n",
              "      display: none;\n",
              "      fill: #1967D2;\n",
              "      height: 32px;\n",
              "      padding: 0 0 0 0;\n",
              "      width: 32px;\n",
              "    }\n",
              "\n",
              "    .colab-df-convert:hover {\n",
              "      background-color: #E2EBFA;\n",
              "      box-shadow: 0px 1px 2px rgba(60, 64, 67, 0.3), 0px 1px 3px 1px rgba(60, 64, 67, 0.15);\n",
              "      fill: #174EA6;\n",
              "    }\n",
              "\n",
              "    [theme=dark] .colab-df-convert {\n",
              "      background-color: #3B4455;\n",
              "      fill: #D2E3FC;\n",
              "    }\n",
              "\n",
              "    [theme=dark] .colab-df-convert:hover {\n",
              "      background-color: #434B5C;\n",
              "      box-shadow: 0px 1px 3px 1px rgba(0, 0, 0, 0.15);\n",
              "      filter: drop-shadow(0px 1px 2px rgba(0, 0, 0, 0.3));\n",
              "      fill: #FFFFFF;\n",
              "    }\n",
              "  </style>\n",
              "\n",
              "      <script>\n",
              "        const buttonEl =\n",
              "          document.querySelector('#df-06d549fd-e3f7-404f-9fde-ac808dfd4db4 button.colab-df-convert');\n",
              "        buttonEl.style.display =\n",
              "          google.colab.kernel.accessAllowed ? 'block' : 'none';\n",
              "\n",
              "        async function convertToInteractive(key) {\n",
              "          const element = document.querySelector('#df-06d549fd-e3f7-404f-9fde-ac808dfd4db4');\n",
              "          const dataTable =\n",
              "            await google.colab.kernel.invokeFunction('convertToInteractive',\n",
              "                                                     [key], {});\n",
              "          if (!dataTable) return;\n",
              "\n",
              "          const docLinkHtml = 'Like what you see? Visit the ' +\n",
              "            '<a target=\"_blank\" href=https://colab.research.google.com/notebooks/data_table.ipynb>data table notebook</a>'\n",
              "            + ' to learn more about interactive tables.';\n",
              "          element.innerHTML = '';\n",
              "          dataTable['output_type'] = 'display_data';\n",
              "          await google.colab.output.renderOutput(dataTable, element);\n",
              "          const docLink = document.createElement('div');\n",
              "          docLink.innerHTML = docLinkHtml;\n",
              "          element.appendChild(docLink);\n",
              "        }\n",
              "      </script>\n",
              "    </div>\n",
              "  </div>\n",
              "  "
            ]
          },
          "metadata": {},
          "execution_count": 79
        }
      ]
    },
    {
      "cell_type": "code",
      "source": [
        "#total会议时间直方图\n",
        "df_notravel['time period'].hist(grid=False, figsize=(12,8), color='#86bf91', rwidth=0.9)"
      ],
      "metadata": {
        "colab": {
          "base_uri": "https://localhost:8080/",
          "height": 500
        },
        "id": "rNl6nylvSl-T",
        "outputId": "dc8cdf9e-ad70-4444-dda4-65a9c00b916e"
      },
      "execution_count": null,
      "outputs": [
        {
          "output_type": "execute_result",
          "data": {
            "text/plain": [
              "<matplotlib.axes._subplots.AxesSubplot at 0x7f04695fa160>"
            ]
          },
          "metadata": {},
          "execution_count": 155
        },
        {
          "output_type": "display_data",
          "data": {
            "text/plain": [
              "<Figure size 864x576 with 1 Axes>"
            ],
            "image/png": "[encoded data removed]"
          },
          "metadata": {
            "needs_background": "light"
          }
        }
      ]
    },
    {
      "cell_type": "markdown",
      "source": [
        "# 与外部系统会议"
      ],
      "metadata": {
        "id": "XLKtIO-TY2zA"
      }
    },
    {
      "cell_type": "code",
      "source": [
        "df_product=df_notravel[df_notravel['参与者'].str.contains('刘作虎|段要辉')]\n",
        "product_time=int(df_product['time period'].sum()/60)\n",
        "product_counts=df_product['time period'].count()"
      ],
      "metadata": {
        "id": "hO8f24s_Ul9K"
      },
      "execution_count": null,
      "outputs": []
    },
    {
      "cell_type": "code",
      "source": [
        "print(\"2022参加产品线相关会议\",product_counts,\"次,\",\"总会议时间约为\",product_time,\"小时,占总时间\",'{:.1%}'.format(product_time/total_hour))"
      ],
      "metadata": {
        "colab": {
          "base_uri": "https://localhost:8080/"
        },
        "id": "e_dJAR60V290",
        "outputId": "121de763-2d02-4a1c-b989-682a650c04e4"
      },
      "execution_count": null,
      "outputs": [
        {
          "output_type": "stream",
          "name": "stdout",
          "text": [
            "2022参加产品线相关会议 337 次, 总会议时间约为 660 小时,占总时间 27.1%\n"
          ]
        }
      ]
    },
    {
      "cell_type": "code",
      "source": [],
      "metadata": {
        "id": "M1zh1-XwY01N"
      },
      "execution_count": null,
      "outputs": []
    },
    {
      "cell_type": "markdown",
      "source": [
        "# HR拉起会议时间"
      ],
      "metadata": {
        "id": "G0trK-VQSfhb"
      }
    },
    {
      "cell_type": "code",
      "source": [
        "#杨大韦、钟文嫡、黄宇雄、陈佳英、任秀慧，杨玉婷、王营、罗茜拉起会议\n",
        "df_hr=df_notravel.loc[df_notravel['创建者工号'].isin(['80048520','80302265','80338446','80279818','80159512','80299215','80339985','80055663'])]\n",
        "df_hr.head()\n",
        "#HR最近拉起的5次会议如下"
      ],
      "metadata": {
        "colab": {
          "base_uri": "https://localhost:8080/",
          "height": 206
        },
        "id": "Hyfh2P9_XcxC",
        "outputId": "41a494ee-8e60-4e0f-9104-e83494969727"
      },
      "execution_count": null,
      "outputs": [
        {
          "output_type": "execute_result",
          "data": {
            "text/plain": [
              "                     标题            创建者姓名     创建者工号  \\\n",
              "18   Steven对于硬工年终奖分配的访谈  杨大韦(DavidLouie)  80048520   \n",
              "29     硬件工程系统Q14报告解读与沟通     任秀慧(Jessica)  80279818   \n",
              "101        硬工人力编制ZOOM讨论  杨大韦(DavidLouie)  80048520   \n",
              "146            硬工11月人委会  钟文嫡(Mandyzhong)  80302265   \n",
              "149                干部沟通  钟文嫡(Mandyzhong)  80302265   \n",
              "\n",
              "                                                   参与者 time_converetd_started  \\\n",
              "18   [牛心悦(Yulia Niu), 王兆祥(Steven), 唐文婕(Fiona), 杨大韦(...    2022-12-27 11:15:00   \n",
              "29   [牛心悦(Yulia Niu), 王兆祥(Steven), 任秀慧(Jessica), 王怡...    2022-12-23 09:00:00   \n",
              "101  [陈泽鸣(Allen), 赵恺(Kevin Zhao), 陈少敏(Elena), 贾玉虎(N...    2022-12-06 21:30:00   \n",
              "146  [黎诗琦(Suki), 廖新风(Rocky), 黄宇雄(Orange), 杨大韦(David...    2022-11-29 10:30:00   \n",
              "149  [牛心悦(Yulia Niu), Dave(80372598), 钟文嫡(Mandyzhon...    2022-11-29 09:00:00   \n",
              "\n",
              "     time period  \n",
              "18          30.0  \n",
              "29          45.0  \n",
              "101         60.0  \n",
              "146        120.0  \n",
              "149         60.0  "
            ],
            "text/html": [
              "\n",
              "  <div id=\"df-0587741a-222d-49b5-9665-554dd8dcd8c5\">\n",
              "    <div class=\"colab-df-container\">\n",
              "      <div>\n",
              "<style scoped>\n",
              "    .dataframe tbody tr th:only-of-type {\n",
              "        vertical-align: middle;\n",
              "    }\n",
              "\n",
              "    .dataframe tbody tr th {\n",
              "        vertical-align: top;\n",
              "    }\n",
              "\n",
              "    .dataframe thead th {\n",
              "        text-align: right;\n",
              "    }\n",
              "</style>\n",
              "<table border=\"1\" class=\"dataframe\">\n",
              "  <thead>\n",
              "    <tr style=\"text-align: right;\">\n",
              "      <th></th>\n",
              "      <th>标题</th>\n",
              "      <th>创建者姓名</th>\n",
              "      <th>创建者工号</th>\n",
              "      <th>参与者</th>\n",
              "      <th>time_converetd_started</th>\n",
              "      <th>time period</th>\n",
              "    </tr>\n",
              "  </thead>\n",
              "  <tbody>\n",
              "    <tr>\n",
              "      <th>18</th>\n",
              "      <td>Steven对于硬工年终奖分配的访谈</td>\n",
              "      <td>杨大韦(DavidLouie)</td>\n",
              "      <td>80048520</td>\n",
              "      <td>[牛心悦(Yulia Niu), 王兆祥(Steven), 唐文婕(Fiona), 杨大韦(...</td>\n",
              "      <td>2022-12-27 11:15:00</td>\n",
              "      <td>30.0</td>\n",
              "    </tr>\n",
              "    <tr>\n",
              "      <th>29</th>\n",
              "      <td>硬件工程系统Q14报告解读与沟通</td>\n",
              "      <td>任秀慧(Jessica)</td>\n",
              "      <td>80279818</td>\n",
              "      <td>[牛心悦(Yulia Niu), 王兆祥(Steven), 任秀慧(Jessica), 王怡...</td>\n",
              "      <td>2022-12-23 09:00:00</td>\n",
              "      <td>45.0</td>\n",
              "    </tr>\n",
              "    <tr>\n",
              "      <th>101</th>\n",
              "      <td>硬工人力编制ZOOM讨论</td>\n",
              "      <td>杨大韦(DavidLouie)</td>\n",
              "      <td>80048520</td>\n",
              "      <td>[陈泽鸣(Allen), 赵恺(Kevin Zhao), 陈少敏(Elena), 贾玉虎(N...</td>\n",
              "      <td>2022-12-06 21:30:00</td>\n",
              "      <td>60.0</td>\n",
              "    </tr>\n",
              "    <tr>\n",
              "      <th>146</th>\n",
              "      <td>硬工11月人委会</td>\n",
              "      <td>钟文嫡(Mandyzhong)</td>\n",
              "      <td>80302265</td>\n",
              "      <td>[黎诗琦(Suki), 廖新风(Rocky), 黄宇雄(Orange), 杨大韦(David...</td>\n",
              "      <td>2022-11-29 10:30:00</td>\n",
              "      <td>120.0</td>\n",
              "    </tr>\n",
              "    <tr>\n",
              "      <th>149</th>\n",
              "      <td>干部沟通</td>\n",
              "      <td>钟文嫡(Mandyzhong)</td>\n",
              "      <td>80302265</td>\n",
              "      <td>[牛心悦(Yulia Niu), Dave(80372598), 钟文嫡(Mandyzhon...</td>\n",
              "      <td>2022-11-29 09:00:00</td>\n",
              "      <td>60.0</td>\n",
              "    </tr>\n",
              "  </tbody>\n",
              "</table>\n",
              "</div>\n",
              "      <button class=\"colab-df-convert\" onclick=\"convertToInteractive('df-0587741a-222d-49b5-9665-554dd8dcd8c5')\"\n",
              "              title=\"Convert this dataframe to an interactive table.\"\n",
              "              style=\"display:none;\">\n",
              "        \n",
              "  <svg xmlns=\"http://www.w3.org/2000/svg\" height=\"24px\"viewBox=\"0 0 24 24\"\n",
              "       width=\"24px\">\n",
              "    <path d=\"M0 0h24v24H0V0z\" fill=\"none\"/>\n",
              "    <path d=\"M18.56 5.44l.94 2.06.94-2.06 2.06-.94-2.06-.94-.94-2.06-.94 2.06-2.06.94zm-11 1L8.5 8.5l.94-2.06 2.06-.94-2.06-.94L8.5 2.5l-.94 2.06-2.06.94zm10 10l.94 2.06.94-2.06 2.06-.94-2.06-.94-.94-2.06-.94 2.06-2.06.94z\"/><path d=\"M17.41 7.96l-1.37-1.37c-.4-.4-.92-.59-1.43-.59-.52 0-1.04.2-1.43.59L10.3 9.45l-7.72 7.72c-.78.78-.78 2.05 0 2.83L4 21.41c.39.39.9.59 1.41.59.51 0 1.02-.2 1.41-.59l7.78-7.78 2.81-2.81c.8-.78.8-2.07 0-2.86zM5.41 20L4 18.59l7.72-7.72 1.47 1.35L5.41 20z\"/>\n",
              "  </svg>\n",
              "      </button>\n",
              "      \n",
              "  <style>\n",
              "    .colab-df-container {\n",
              "      display:flex;\n",
              "      flex-wrap:wrap;\n",
              "      gap: 12px;\n",
              "    }\n",
              "\n",
              "    .colab-df-convert {\n",
              "      background-color: #E8F0FE;\n",
              "      border: none;\n",
              "      border-radius: 50%;\n",
              "      cursor: pointer;\n",
              "      display: none;\n",
              "      fill: #1967D2;\n",
              "      height: 32px;\n",
              "      padding: 0 0 0 0;\n",
              "      width: 32px;\n",
              "    }\n",
              "\n",
              "    .colab-df-convert:hover {\n",
              "      background-color: #E2EBFA;\n",
              "      box-shadow: 0px 1px 2px rgba(60, 64, 67, 0.3), 0px 1px 3px 1px rgba(60, 64, 67, 0.15);\n",
              "      fill: #174EA6;\n",
              "    }\n",
              "\n",
              "    [theme=dark] .colab-df-convert {\n",
              "      background-color: #3B4455;\n",
              "      fill: #D2E3FC;\n",
              "    }\n",
              "\n",
              "    [theme=dark] .colab-df-convert:hover {\n",
              "      background-color: #434B5C;\n",
              "      box-shadow: 0px 1px 3px 1px rgba(0, 0, 0, 0.15);\n",
              "      filter: drop-shadow(0px 1px 2px rgba(0, 0, 0, 0.3));\n",
              "      fill: #FFFFFF;\n",
              "    }\n",
              "  </style>\n",
              "\n",
              "      <script>\n",
              "        const buttonEl =\n",
              "          document.querySelector('#df-0587741a-222d-49b5-9665-554dd8dcd8c5 button.colab-df-convert');\n",
              "        buttonEl.style.display =\n",
              "          google.colab.kernel.accessAllowed ? 'block' : 'none';\n",
              "\n",
              "        async function convertToInteractive(key) {\n",
              "          const element = document.querySelector('#df-0587741a-222d-49b5-9665-554dd8dcd8c5');\n",
              "          const dataTable =\n",
              "            await google.colab.kernel.invokeFunction('convertToInteractive',\n",
              "                                                     [key], {});\n",
              "          if (!dataTable) return;\n",
              "\n",
              "          const docLinkHtml = 'Like what you see? Visit the ' +\n",
              "            '<a target=\"_blank\" href=https://colab.research.google.com/notebooks/data_table.ipynb>data table notebook</a>'\n",
              "            + ' to learn more about interactive tables.';\n",
              "          element.innerHTML = '';\n",
              "          dataTable['output_type'] = 'display_data';\n",
              "          await google.colab.output.renderOutput(dataTable, element);\n",
              "          const docLink = document.createElement('div');\n",
              "          docLink.innerHTML = docLinkHtml;\n",
              "          element.appendChild(docLink);\n",
              "        }\n",
              "      </script>\n",
              "    </div>\n",
              "  </div>\n",
              "  "
            ]
          },
          "metadata": {},
          "execution_count": 157
        }
      ]
    },
    {
      "cell_type": "code",
      "source": [
        "hr_time=int(df_hr['time period'].sum()/60)\n",
        "hr_counts=df_hr['time period'].count()"
      ],
      "metadata": {
        "id": "KcgNGNimV-TR"
      },
      "execution_count": null,
      "outputs": []
    },
    {
      "cell_type": "code",
      "source": [
        "print(\"2022 HR团队拉起会议次数约为\",hr_counts,\"次,\",\"总会议时间约为\",hr_time,\"小时,占总时间\",'{:.1%}'.format(hr_time/total_hour))"
      ],
      "metadata": {
        "colab": {
          "base_uri": "https://localhost:8080/"
        },
        "id": "zL7BgUJfPauy",
        "outputId": "d0a8d44d-51e6-4aca-aa97-8b2407b76d42"
      },
      "execution_count": null,
      "outputs": [
        {
          "output_type": "stream",
          "name": "stdout",
          "text": [
            "2022 HR团队拉起会议次数约为 44 次, 总会议时间约为 74 小时,占总时间 3.0%\n"
          ]
        }
      ]
    },
    {
      "cell_type": "markdown",
      "source": [
        "# 运营拉起会议时间"
      ],
      "metadata": {
        "id": "2sXugzGnMWXC"
      }
    },
    {
      "cell_type": "code",
      "source": [
        "#曹磊、刘翔，曾国烈，雷鸣，段金豆拉起会议\n",
        "df_operation=df_notravel.loc[df_notravel['创建者工号'].isin(['80261790','80245672','80237245','80256645','80092573'])]\n",
        "df_operation.head()"
      ],
      "metadata": {
        "colab": {
          "base_uri": "https://localhost:8080/",
          "height": 330
        },
        "id": "YiVDq0zxMbrd",
        "outputId": "263c34fa-f0fd-498f-e4a4-98f872105a86"
      },
      "execution_count": null,
      "outputs": [
        {
          "output_type": "execute_result",
          "data": {
            "text/plain": [
              "              标题             创建者姓名     创建者工号  \\\n",
              "2   技术竞争力会（双周例会）                曹磊  80261790   \n",
              "6          器件规划会               曾国烈  80237245   \n",
              "9        软硬协同沟通会  段金豆(Golden Bean)  80092573   \n",
              "12      影像突破专项例会          刘翔(Carl)  80245672   \n",
              "23    软硬结合问题提前评审  段金豆(Golden Bean)  80092573   \n",
              "\n",
              "                                                  参与者 time_converetd_started  \\\n",
              "2   [万憬明(Jimmy), 古海雯(W9052060), 牛心悦(Yulia Niu), 黄珂...    2022-12-30 16:15:00   \n",
              "6   [罗小飞(Xiaofei), 安阳, 万憬明(Jimmy), 姜帆(Jiangfan), 刘...    2022-12-30 09:00:00   \n",
              "9   [胡运林(Grant), 程杰(Rockie), 李春辉, 牛心悦(Yulia Niu), ...    2022-12-29 11:00:00   \n",
              "12  [LEE DO HYUNG(80377786), Tom(80390633), 沈鹏云(Cl...    2022-12-28 14:10:00   \n",
              "23  [赵恺(Kevin Zhao), 胡运林(Grant), 林俊杰(Leon Lin), 牛心...    2022-12-26 16:00:00   \n",
              "\n",
              "    time period  \n",
              "2          55.0  \n",
              "6         120.0  \n",
              "9          60.0  \n",
              "12        240.0  \n",
              "23         60.0  "
            ],
            "text/html": [
              "\n",
              "  <div id=\"df-79823478-de08-48f6-80d6-379a30370be0\">\n",
              "    <div class=\"colab-df-container\">\n",
              "      <div>\n",
              "<style scoped>\n",
              "    .dataframe tbody tr th:only-of-type {\n",
              "        vertical-align: middle;\n",
              "    }\n",
              "\n",
              "    .dataframe tbody tr th {\n",
              "        vertical-align: top;\n",
              "    }\n",
              "\n",
              "    .dataframe thead th {\n",
              "        text-align: right;\n",
              "    }\n",
              "</style>\n",
              "<table border=\"1\" class=\"dataframe\">\n",
              "  <thead>\n",
              "    <tr style=\"text-align: right;\">\n",
              "      <th></th>\n",
              "      <th>标题</th>\n",
              "      <th>创建者姓名</th>\n",
              "      <th>创建者工号</th>\n",
              "      <th>参与者</th>\n",
              "      <th>time_converetd_started</th>\n",
              "      <th>time period</th>\n",
              "    </tr>\n",
              "  </thead>\n",
              "  <tbody>\n",
              "    <tr>\n",
              "      <th>2</th>\n",
              "      <td>技术竞争力会（双周例会）</td>\n",
              "      <td>曹磊</td>\n",
              "      <td>80261790</td>\n",
              "      <td>[万憬明(Jimmy), 古海雯(W9052060), 牛心悦(Yulia Niu), 黄珂...</td>\n",
              "      <td>2022-12-30 16:15:00</td>\n",
              "      <td>55.0</td>\n",
              "    </tr>\n",
              "    <tr>\n",
              "      <th>6</th>\n",
              "      <td>器件规划会</td>\n",
              "      <td>曾国烈</td>\n",
              "      <td>80237245</td>\n",
              "      <td>[罗小飞(Xiaofei), 安阳, 万憬明(Jimmy), 姜帆(Jiangfan), 刘...</td>\n",
              "      <td>2022-12-30 09:00:00</td>\n",
              "      <td>120.0</td>\n",
              "    </tr>\n",
              "    <tr>\n",
              "      <th>9</th>\n",
              "      <td>软硬协同沟通会</td>\n",
              "      <td>段金豆(Golden Bean)</td>\n",
              "      <td>80092573</td>\n",
              "      <td>[胡运林(Grant), 程杰(Rockie), 李春辉, 牛心悦(Yulia Niu), ...</td>\n",
              "      <td>2022-12-29 11:00:00</td>\n",
              "      <td>60.0</td>\n",
              "    </tr>\n",
              "    <tr>\n",
              "      <th>12</th>\n",
              "      <td>影像突破专项例会</td>\n",
              "      <td>刘翔(Carl)</td>\n",
              "      <td>80245672</td>\n",
              "      <td>[LEE DO HYUNG(80377786), Tom(80390633), 沈鹏云(Cl...</td>\n",
              "      <td>2022-12-28 14:10:00</td>\n",
              "      <td>240.0</td>\n",
              "    </tr>\n",
              "    <tr>\n",
              "      <th>23</th>\n",
              "      <td>软硬结合问题提前评审</td>\n",
              "      <td>段金豆(Golden Bean)</td>\n",
              "      <td>80092573</td>\n",
              "      <td>[赵恺(Kevin Zhao), 胡运林(Grant), 林俊杰(Leon Lin), 牛心...</td>\n",
              "      <td>2022-12-26 16:00:00</td>\n",
              "      <td>60.0</td>\n",
              "    </tr>\n",
              "  </tbody>\n",
              "</table>\n",
              "</div>\n",
              "      <button class=\"colab-df-convert\" onclick=\"convertToInteractive('df-79823478-de08-48f6-80d6-379a30370be0')\"\n",
              "              title=\"Convert this dataframe to an interactive table.\"\n",
              "              style=\"display:none;\">\n",
              "        \n",
              "  <svg xmlns=\"http://www.w3.org/2000/svg\" height=\"24px\"viewBox=\"0 0 24 24\"\n",
              "       width=\"24px\">\n",
              "    <path d=\"M0 0h24v24H0V0z\" fill=\"none\"/>\n",
              "    <path d=\"M18.56 5.44l.94 2.06.94-2.06 2.06-.94-2.06-.94-.94-2.06-.94 2.06-2.06.94zm-11 1L8.5 8.5l.94-2.06 2.06-.94-2.06-.94L8.5 2.5l-.94 2.06-2.06.94zm10 10l.94 2.06.94-2.06 2.06-.94-2.06-.94-.94-2.06-.94 2.06-2.06.94z\"/><path d=\"M17.41 7.96l-1.37-1.37c-.4-.4-.92-.59-1.43-.59-.52 0-1.04.2-1.43.59L10.3 9.45l-7.72 7.72c-.78.78-.78 2.05 0 2.83L4 21.41c.39.39.9.59 1.41.59.51 0 1.02-.2 1.41-.59l7.78-7.78 2.81-2.81c.8-.78.8-2.07 0-2.86zM5.41 20L4 18.59l7.72-7.72 1.47 1.35L5.41 20z\"/>\n",
              "  </svg>\n",
              "      </button>\n",
              "      \n",
              "  <style>\n",
              "    .colab-df-container {\n",
              "      display:flex;\n",
              "      flex-wrap:wrap;\n",
              "      gap: 12px;\n",
              "    }\n",
              "\n",
              "    .colab-df-convert {\n",
              "      background-color: #E8F0FE;\n",
              "      border: none;\n",
              "      border-radius: 50%;\n",
              "      cursor: pointer;\n",
              "      display: none;\n",
              "      fill: #1967D2;\n",
              "      height: 32px;\n",
              "      padding: 0 0 0 0;\n",
              "      width: 32px;\n",
              "    }\n",
              "\n",
              "    .colab-df-convert:hover {\n",
              "      background-color: #E2EBFA;\n",
              "      box-shadow: 0px 1px 2px rgba(60, 64, 67, 0.3), 0px 1px 3px 1px rgba(60, 64, 67, 0.15);\n",
              "      fill: #174EA6;\n",
              "    }\n",
              "\n",
              "    [theme=dark] .colab-df-convert {\n",
              "      background-color: #3B4455;\n",
              "      fill: #D2E3FC;\n",
              "    }\n",
              "\n",
              "    [theme=dark] .colab-df-convert:hover {\n",
              "      background-color: #434B5C;\n",
              "      box-shadow: 0px 1px 3px 1px rgba(0, 0, 0, 0.15);\n",
              "      filter: drop-shadow(0px 1px 2px rgba(0, 0, 0, 0.3));\n",
              "      fill: #FFFFFF;\n",
              "    }\n",
              "  </style>\n",
              "\n",
              "      <script>\n",
              "        const buttonEl =\n",
              "          document.querySelector('#df-79823478-de08-48f6-80d6-379a30370be0 button.colab-df-convert');\n",
              "        buttonEl.style.display =\n",
              "          google.colab.kernel.accessAllowed ? 'block' : 'none';\n",
              "\n",
              "        async function convertToInteractive(key) {\n",
              "          const element = document.querySelector('#df-79823478-de08-48f6-80d6-379a30370be0');\n",
              "          const dataTable =\n",
              "            await google.colab.kernel.invokeFunction('convertToInteractive',\n",
              "                                                     [key], {});\n",
              "          if (!dataTable) return;\n",
              "\n",
              "          const docLinkHtml = 'Like what you see? Visit the ' +\n",
              "            '<a target=\"_blank\" href=https://colab.research.google.com/notebooks/data_table.ipynb>data table notebook</a>'\n",
              "            + ' to learn more about interactive tables.';\n",
              "          element.innerHTML = '';\n",
              "          dataTable['output_type'] = 'display_data';\n",
              "          await google.colab.output.renderOutput(dataTable, element);\n",
              "          const docLink = document.createElement('div');\n",
              "          docLink.innerHTML = docLinkHtml;\n",
              "          element.appendChild(docLink);\n",
              "        }\n",
              "      </script>\n",
              "    </div>\n",
              "  </div>\n",
              "  "
            ]
          },
          "metadata": {},
          "execution_count": 139
        }
      ]
    },
    {
      "cell_type": "code",
      "source": [
        "operation_time=int(df_operation['time period'].sum()/60)\n",
        "operation_counts=df_operation['time period'].count()"
      ],
      "metadata": {
        "id": "VAiYAkqANvLn"
      },
      "execution_count": null,
      "outputs": []
    },
    {
      "cell_type": "code",
      "source": [
        "print(\"2022年硬工运营团队拉起会议次数约为\",operation_counts,\"次,\",\"总会议时间约为\",operation_time,\"小时,占总时间\",'{:.1%}'.format(operation_time/total_hour))"
      ],
      "metadata": {
        "colab": {
          "base_uri": "https://localhost:8080/"
        },
        "id": "w5gJkRx9N1Gs",
        "outputId": "ccb2dccf-c6b3-4cf6-914a-0ad1fd86622f"
      },
      "execution_count": null,
      "outputs": [
        {
          "output_type": "stream",
          "name": "stdout",
          "text": [
            "2022年硬工运营团队拉起会议次数约为 145 次, 总会议时间约为 235 小时,占总时间 9.6%\n"
          ]
        }
      ]
    },
    {
      "cell_type": "code",
      "source": [],
      "metadata": {
        "id": "rTSo63t8PHt5"
      },
      "execution_count": null,
      "outputs": []
    },
    {
      "cell_type": "markdown",
      "source": [
        "# New Section"
      ],
      "metadata": {
        "id": "zi6CmhbXuBuS"
      }
    },
    {
      "cell_type": "code",
      "source": [],
      "metadata": {
        "id": "9FnGtY_BtGY8"
      },
      "execution_count": null,
      "outputs": []
    }
  ]
}